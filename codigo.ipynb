{
 "cells": [
  {
   "cell_type": "code",
   "execution_count": 3,
   "metadata": {},
   "outputs": [],
   "source": [
    "import pandas as pd\n",
    "import numpy as np\n",
    "\n",
    "# Carregando o arquivo CSV\n",
    "df_avocado = pd.read_csv('avocado_type.csv')\n",
    "\n",
    "# Criando uma série com valores aleatórios entre 0 e 1 com o mesmo tamanho do dataframe\n",
    "tipos = pd.Series(np.random.randint(0, 2, df_avocado.shape[0]))\n",
    "\n",
    "# Mapeando os valores 0 para 'convencional' e 1 para 'orgânico'\n",
    "tipos = tipos.map({0: 'convencional', 1:'orgânico'})\n",
    "\n",
    "# Substituindo os valores da coluna 'type' pelos novos valores de 'tipos'\n",
    "df_avocado['type'] = tipos\n",
    "\n",
    "# Salvando o dataframe modificado em um novo arquivo CSV\n",
    "df_avocado.to_csv('avocado_type_modificado.csv', index=False)"
   ]
  },
  {
   "cell_type": "code",
   "execution_count": 4,
   "metadata": {},
   "outputs": [
    {
     "name": "stdout",
     "output_type": "stream",
     "text": [
      "Cabeçalho do dataframe modificado:\n",
      "           type\n",
      "0      orgânico\n",
      "1  convencional\n",
      "2      orgânico\n",
      "3      orgânico\n",
      "4      orgânico\n",
      "----------------------------------------\n",
      "Formato (shape) do dataframe original:\n",
      "(18249, 1)\n",
      "----------------------------------------\n",
      "Cabeçalho do dataframe modificado:\n",
      "         Date  AveragePrice  Total Volume  year  region\n",
      "0  2015-12-27          1.33      64236.62  2015  Albany\n",
      "1  2015-12-20          1.35      54876.98  2015  Albany\n",
      "2  2015-12-13          0.93     118220.22  2015  Albany\n",
      "3  2015-12-06          1.08      78992.15  2015  Albany\n",
      "4  2015-11-29          1.28      51039.60  2015  Albany\n",
      "----------------------------------------\n",
      "Formato (shape) do dataframe original:\n",
      "(18249, 5)\n",
      "----------------------------------------\n"
     ]
    }
   ],
   "source": [
    "# Carregando o arquivo CSV dos tipos de abacate\n",
    "df_type = pd.read_csv('avocado_type_modificado.csv')\n",
    "\n",
    "# Imprimindo o cabeçalho do dataframe modificado\n",
    "print(\"Cabeçalho do dataframe modificado:\")\n",
    "print(df_type.head())\n",
    "print('-'*40)\n",
    "# Imprimindo o shape do dataframe original\n",
    "print(\"Formato (shape) do dataframe original:\")\n",
    "print(df_type.shape)\n",
    "print('-'*40)\n",
    "# Carregando o arquivo CSV de vendas\n",
    "df_sales = pd.read_csv('avocado.csv')\n",
    "\n",
    "# Imprimindo o cabeçalho do dataframe de vendas para verificação\n",
    "print(\"Cabeçalho do dataframe modificado:\")\n",
    "print(df_sales.head())\n",
    "print('-'*40)\n",
    "# Imprimindo o shape do dataframe de vendas para verificação\n",
    "print(\"Formato (shape) do dataframe original:\")\n",
    "print(df_sales.shape)\n",
    "print('-'*40)"
   ]
  },
  {
   "cell_type": "code",
   "execution_count": 5,
   "metadata": {},
   "outputs": [
    {
     "name": "stdout",
     "output_type": "stream",
     "text": [
      "Cabeçalho do dataframe modificado:\n",
      "         Date  AveragePrice  Total Volume  year  region          type\n",
      "0  2015-12-27          1.33      64236.62  2015  Albany      orgânico\n",
      "1  2015-12-20          1.35      54876.98  2015  Albany  convencional\n",
      "2  2015-12-13          0.93     118220.22  2015  Albany      orgânico\n",
      "3  2015-12-06          1.08      78992.15  2015  Albany      orgânico\n",
      "4  2015-11-29          1.28      51039.60  2015  Albany      orgânico\n",
      "----------------------------------------\n",
      "Formato (shape) do dataframe original:\n",
      "(18249, 6)\n",
      "----------------------------------------\n"
     ]
    }
   ],
   "source": [
    "# Realizando a concatenação dos dataframes pelo eixo das colunas (axis=1)\n",
    "df_sales_per_type = pd.concat([df_sales, df_type], axis=1)\n",
    "\n",
    "# Salvando o dataframe concatenado em um novo arquivo CSV\n",
    "df_sales_per_type.to_csv('vendas_avocado_por_tipo.csv', index=False)\n",
    "\n",
    "# Imprimindo o cabeçalho do ovo dataframe  para verificação\n",
    "print(\"Cabeçalho do dataframe modificado:\")\n",
    "print(df_sales_per_type.head())\n",
    "print('-'*40)\n",
    "# Imprimindo o shape do novo dataframe para verificação\n",
    "print(\"Formato (shape) do dataframe original:\")\n",
    "print(df_sales_per_type.shape)\n",
    "print('-'*40)"
   ]
  },
  {
   "cell_type": "code",
   "execution_count": 6,
   "metadata": {},
   "outputs": [
    {
     "name": "stdout",
     "output_type": "stream",
     "text": [
      "Quantidade de abacates convencionais: 8062428632.28 (51.94%)\n",
      "Quantidade de abacates orgânicos: 7460973961.12 (48.06%)\n"
     ]
    }
   ],
   "source": [
    "# (a) A quantidade de abacates do tipo convencional e do tipo orgânico:\n",
    "# Agrupar o dataframe por tipo de abacate e calcular a soma das vendas totais\n",
    "abacates_por_tipo = df_sales_per_type.groupby('type')['Total Volume'].sum()\n",
    "\n",
    "# Calcular a soma total de abacates vendidos\n",
    "total_abacates = abacates_por_tipo.sum()\n",
    "\n",
    "# Calcular a porcentagem de abacates convencionais e orgânicos em relação ao total\n",
    "porcentagem_convencionais = (abacates_por_tipo['convencional'] / total_abacates) * 100\n",
    "porcentagem_organicos = (abacates_por_tipo['orgânico'] / total_abacates) * 100\n",
    "\n",
    "# Exibir a quantidade e porcentagem de abacates por tipo\n",
    "print('Quantidade de abacates convencionais:', abacates_por_tipo['convencional'], f'({porcentagem_convencionais:.2f}%)')\n",
    "print('Quantidade de abacates orgânicos:', abacates_por_tipo['orgânico'], f'({porcentagem_organicos:.2f}%)')"
   ]
  },
  {
   "cell_type": "code",
   "execution_count": 7,
   "metadata": {},
   "outputs": [
    {
     "name": "stdout",
     "output_type": "stream",
     "text": [
      "Quantidade de registros (linhas) de abacates vendidos por região:\n",
      "region\n",
      "Albany                 338\n",
      "Sacramento             338\n",
      "Northeast              338\n",
      "NorthernNewEngland     338\n",
      "Orlando                338\n",
      "Philadelphia           338\n",
      "PhoenixTucson          338\n",
      "Pittsburgh             338\n",
      "Plains                 338\n",
      "Portland               338\n",
      "RaleighGreensboro      338\n",
      "RichmondNorfolk        338\n",
      "Roanoke                338\n",
      "SanDiego               338\n",
      "Atlanta                338\n",
      "SanFrancisco           338\n",
      "Seattle                338\n",
      "SouthCarolina          338\n",
      "SouthCentral           338\n",
      "Southeast              338\n",
      "Spokane                338\n",
      "StLouis                338\n",
      "Syracuse               338\n",
      "Tampa                  338\n",
      "TotalUS                338\n",
      "West                   338\n",
      "NewYork                338\n",
      "NewOrleansMobile       338\n",
      "Nashville              338\n",
      "Midsouth               338\n",
      "BaltimoreWashington    338\n",
      "Boise                  338\n",
      "Boston                 338\n",
      "BuffaloRochester       338\n",
      "California             338\n",
      "Charlotte              338\n",
      "Chicago                338\n",
      "CincinnatiDayton       338\n",
      "Columbus               338\n",
      "DallasFtWorth          338\n",
      "Denver                 338\n",
      "Detroit                338\n",
      "GrandRapids            338\n",
      "GreatLakes             338\n",
      "HarrisburgScranton     338\n",
      "HartfordSpringfield    338\n",
      "Houston                338\n",
      "Indianapolis           338\n",
      "Jacksonville           338\n",
      "LasVegas               338\n",
      "LosAngeles             338\n",
      "Louisville             338\n",
      "MiamiFtLauderdale      338\n",
      "WestTexNewMexico       335\n",
      "Name: count, dtype: int64\n"
     ]
    }
   ],
   "source": [
    "# (b) A quantidade de registros (linhas) de abacates vendidos para cada região:\n",
    "# Calcular a quantidade de registros (linhas) de abacates vendidos para cada região\n",
    "abacates_por_regiao = df_sales_per_type['region'].value_counts()\n",
    "\n",
    "# Exibir a quantidade de registros por região\n",
    "print('Quantidade de registros (linhas) de abacates vendidos por região:')\n",
    "print(abacates_por_regiao)"
   ]
  },
  {
   "cell_type": "code",
   "execution_count": 8,
   "metadata": {},
   "outputs": [
    {
     "name": "stdout",
     "output_type": "stream",
     "text": [
      "             Date  Average Price  Total Volume  Year            Region   \n",
      "0      2015-12-27           1.33      64236.62  2015            Albany  \\\n",
      "1      2015-12-20           1.35      54876.98  2015            Albany   \n",
      "2      2015-12-13           0.93     118220.22  2015            Albany   \n",
      "3      2015-12-06           1.08      78992.15  2015            Albany   \n",
      "4      2015-11-29           1.28      51039.60  2015            Albany   \n",
      "...           ...            ...           ...   ...               ...   \n",
      "18244  2018-02-04           1.63      17074.83  2018  WestTexNewMexico   \n",
      "18245  2018-01-28           1.71      13888.04  2018  WestTexNewMexico   \n",
      "18246  2018-01-21           1.87      13766.76  2018  WestTexNewMexico   \n",
      "18247  2018-01-14           1.93      16205.22  2018  WestTexNewMexico   \n",
      "18248  2018-01-07           1.62      17489.58  2018  WestTexNewMexico   \n",
      "\n",
      "               Type  \n",
      "0          orgânico  \n",
      "1      convencional  \n",
      "2          orgânico  \n",
      "3          orgânico  \n",
      "4          orgânico  \n",
      "...             ...  \n",
      "18244      orgânico  \n",
      "18245  convencional  \n",
      "18246  convencional  \n",
      "18247      orgânico  \n",
      "18248      orgânico  \n",
      "\n",
      "[18249 rows x 6 columns]\n"
     ]
    }
   ],
   "source": [
    "# (c) Para que todos os labels das colunas fiquem padronizados, renomeie aqueles que estão iniciando em letra minúscula para que iniciem em letra maiúscula:\n",
    "\n",
    "# Renomeando as colunas para um formato mais esclarecedor:\n",
    "df_sales_per_type.rename(columns={'AveragePrice': 'Average Price','year': 'Year', 'region': 'Region', 'type': 'Type'}, inplace=True)\n",
    "\n",
    "# Exibir o DataFrame com as colunas renomeadas\n",
    "print(df_sales_per_type)"
   ]
  },
  {
   "cell_type": "code",
   "execution_count": 9,
   "metadata": {},
   "outputs": [
    {
     "name": "stdout",
     "output_type": "stream",
     "text": [
      "             Date  Average Price  Total Volume            Region          Type\n",
      "0      2015-12-27           1.33      64236.62            Albany      orgânico\n",
      "1      2015-12-20           1.35      54876.98            Albany  convencional\n",
      "2      2015-12-13           0.93     118220.22            Albany      orgânico\n",
      "3      2015-12-06           1.08      78992.15            Albany      orgânico\n",
      "4      2015-11-29           1.28      51039.60            Albany      orgânico\n",
      "...           ...            ...           ...               ...           ...\n",
      "18244  2018-02-04           1.63      17074.83  WestTexNewMexico      orgânico\n",
      "18245  2018-01-28           1.71      13888.04  WestTexNewMexico  convencional\n",
      "18246  2018-01-21           1.87      13766.76  WestTexNewMexico  convencional\n",
      "18247  2018-01-14           1.93      16205.22  WestTexNewMexico      orgânico\n",
      "18248  2018-01-07           1.62      17489.58  WestTexNewMexico      orgânico\n",
      "\n",
      "[18249 rows x 5 columns]\n"
     ]
    }
   ],
   "source": [
    "# (d) Uma vez que você já possui uma coluna com a data, remova a coluna que apresenta o ano:\n",
    "\n",
    "# Remover a coluna 'Year'\n",
    "df_sales_per_type.drop('Year', axis=1, inplace=True)\n",
    "\n",
    "# Exibir o DataFrame sem a coluna 'Year'\n",
    "print(df_sales_per_type)"
   ]
  },
  {
   "cell_type": "code",
   "execution_count": 12,
   "metadata": {},
   "outputs": [
    {
     "name": "stdout",
     "output_type": "stream",
     "text": [
      "Volume total de abacates vendidos por tipo:\n",
      "Type\n",
      "convencional    8.062429e+09\n",
      "orgânico        7.460974e+09\n",
      "Name: Total Volume, dtype: float64\n"
     ]
    }
   ],
   "source": [
    "# (a) A volume total de abacates vendidos para cada tipo.\n",
    "# Calculo\n",
    "volume_total_por_tipo = df_sales_per_type.groupby('Type')['Total Volume'].sum()\n",
    "\n",
    "# Exibir o resultado\n",
    "print('Volume total de abacates vendidos por tipo:')\n",
    "print(volume_total_por_tipo)"
   ]
  },
  {
   "cell_type": "code",
   "execution_count": 17,
   "metadata": {},
   "outputs": [
    {
     "name": "stdout",
     "output_type": "stream",
     "text": [
      "Preço médio dos abacates vendidos por tipo:\n",
      "Type\n",
      "convencional    1.404035\n",
      "orgânico        1.407891\n",
      "Name: Average Price, dtype: float64\n"
     ]
    }
   ],
   "source": [
    "# (b) O preço médio dos abacates vendidos para cada tipo.\n",
    "# Calculo\n",
    "preco_medio_por_tipo = df_sales_per_type.groupby('Type')['Average Price'].mean()\n",
    "\n",
    "# Exibir o resultado\n",
    "print('Preço médio dos abacates vendidos por tipo:')\n",
    "print(f'{preco_medio_por_tipo}')"
   ]
  },
  {
   "cell_type": "code",
   "execution_count": 18,
   "metadata": {},
   "outputs": [],
   "source": [
    "# Salvando o dataframe no arquivo CSV já existente, sobrescrevendo o conteúdo\n",
    "df_sales_per_type.to_csv('vendas_avocado_por_tipo.csv', index=False, mode='w')"
   ]
  }
 ],
 "metadata": {
  "kernelspec": {
   "display_name": "Python 3",
   "language": "python",
   "name": "python3"
  },
  "language_info": {
   "codemirror_mode": {
    "name": "ipython",
    "version": 3
   },
   "file_extension": ".py",
   "mimetype": "text/x-python",
   "name": "python",
   "nbconvert_exporter": "python",
   "pygments_lexer": "ipython3",
   "version": "3.11.3"
  },
  "orig_nbformat": 4
 },
 "nbformat": 4,
 "nbformat_minor": 2
}
